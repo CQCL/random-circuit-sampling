{
 "cells": [
  {
   "cell_type": "markdown",
   "id": "0d39e156",
   "metadata": {},
   "source": [
    "# RCS analysis and paper plots"
   ]
  },
  {
   "cell_type": "code",
   "execution_count": 1,
   "id": "a956ad0e",
   "metadata": {},
   "outputs": [],
   "source": [
    "import analysis_functions\n",
    "import plotting_functions"
   ]
  },
  {
   "cell_type": "markdown",
   "id": "cd48ecf6",
   "metadata": {},
   "source": [
    "machine and numerical parameters"
   ]
  },
  {
   "cell_type": "code",
   "execution_count": null,
   "id": "d7e8e715",
   "metadata": {},
   "outputs": [],
   "source": [
    "spam_fid = 1 - 1.47e-3\n",
    "spam_uncert = 9e-5\n",
    "tq_fid = 1 - 1.6e-3\n",
    "tq_uncert = 1e-4\n",
    "tq_depth_shift = 0.9594346166173131\n",
    "mem_depth_shift = 2 + 1.298956026822623"
   ]
  },
  {
   "cell_type": "code",
   "execution_count": null,
   "id": "afb3171b",
   "metadata": {},
   "outputs": [],
   "source": [
    "tsqrb_counts = counts[600:960]"
   ]
  },
  {
   "cell_type": "code",
   "execution_count": null,
   "id": "1df14bbb",
   "metadata": {},
   "outputs": [],
   "source": [
    "tsqrb_countsdict = dict()\n",
    "for i, Nds in enumerate(Nds_pairs_tsqrb):\n",
    "    N = Nds[0]\n",
    "    d = Nds[1]\n",
    "    s = Nds[2]\n",
    "    for j,r in enumerate(range(1,11)):\n",
    "        tsqrb_countsdict[(N,d,r)] = tsqrb_counts[i*10+j]"
   ]
  },
  {
   "cell_type": "code",
   "execution_count": null,
   "id": "240b50b1",
   "metadata": {},
   "outputs": [],
   "source": [
    "tsqrb_bitstrings_with_ideal_bitstrings_dict = dict()\n",
    "\n",
    "for i, Ndr in enumerate(tsqrb_countsdict.keys()):\n",
    "    N = Ndr[0]\n",
    "    d = Ndr[1]\n",
    "    r = Ndr[2]\n",
    "    tsqrb_bitstrings_with_ideal_bitstrings_dict[(N,d)] = []\n",
    "    \n",
    "for i, Ndr in enumerate(tsqrb_countsdict.keys()):\n",
    "    N = Ndr[0]\n",
    "    d = Ndr[1]\n",
    "    r = Ndr[2]\n",
    "    if tsqrb_countsdict[(N,d,r)]:\n",
    "        for bs in tsqrb_countsdict[(N,d,r)].keys():\n",
    "            for _ in range(tsqrb_countsdict[(N,d,r)][bs]):\n",
    "                tsqrb_bitstrings_with_ideal_bitstrings_dict[(N,d)].append((bs,initial_tsqrb[i]))"
   ]
  },
  {
   "cell_type": "code",
   "execution_count": null,
   "id": "7e188ee9",
   "metadata": {},
   "outputs": [],
   "source": [
    "tsqrb_returnsdict = dict()\n",
    "for i, Nds in enumerate(Nds_pairs_tsqrb):\n",
    "    N = Nds[0]\n",
    "    d = Nds[1]\n",
    "    s = Nds[2]\n",
    "    if tsqrb_bitstrings_with_ideal_bitstrings_dict[(N,d)]:\n",
    "        tsqrb_returnsdict[(N,d)] = return_probability_averaged(tsqrb_bitstrings_with_ideal_bitstrings_dict[(N,d)], N)"
   ]
  },
  {
   "cell_type": "code",
   "execution_count": null,
   "id": "08220184",
   "metadata": {},
   "outputs": [],
   "source": [
    "tsqrb_countslist = dict()\n",
    "tsqrb_idealslist = dict()\n",
    "for i, Nds in enumerate(Nds_pairs_tsqrb):\n",
    "    N = Nds[0]\n",
    "    d = Nds[1]\n",
    "    tsqrb_countslist[(N,d)] = [tsqrb_countsdict[(N,d,r)] for r in range(1,11) if tsqrb_countsdict[(N,d,r)] is not None]\n",
    "    tsqrb_idealslist[(N,d)] = [initial_tsqrb[i*10 + r] for r in range(10) if tsqrb_countsdict[(N,d,r+1)] is not None]"
   ]
  },
  {
   "cell_type": "code",
   "execution_count": null,
   "id": "d204999b",
   "metadata": {},
   "outputs": [],
   "source": [
    "drange = [4,16,32,48,64,96]\n",
    "Nrange = [16,24,32,40,48,56]\n",
    "tsqrb_uncerts = dict()\n",
    "for N in Nrange:\n",
    "    try:\n",
    "        tsqrb_uncerts[N] = transport_SQRB_bootstrap_uncertainty_resampled_jobs([tsqrb_countslist[(N,d)] for d in drange],[tsqrb_idealslist[(N,d)] for d in drange],1000,drange,N)\n",
    "    except:\n",
    "        continue\n",
    "    print(N)\n",
    "    print(tsqrb_uncerts[N])"
   ]
  },
  {
   "cell_type": "code",
   "execution_count": null,
   "id": "76834267",
   "metadata": {},
   "outputs": [],
   "source": [
    "tsqrb_returns = dict()\n",
    "for N in Nrange:\n",
    "    try:\n",
    "        tsqrb_returns[N] = [tsqrb_returnsdict[(N,d)] for d in drange]\n",
    "    except:\n",
    "        continue"
   ]
  },
  {
   "cell_type": "code",
   "execution_count": null,
   "id": "76898fe7",
   "metadata": {},
   "outputs": [],
   "source": [
    "mem_errs = []\n",
    "for N in Nrange:\n",
    "    A,mem_fid = exponential_fit(drange,tsqrb_returns[N],1)\n",
    "    print(A,1 - mem_fid)\n",
    "    mem_errs.append(1-mem_fid)"
   ]
  },
  {
   "cell_type": "code",
   "execution_count": null,
   "id": "b5bb5c4a",
   "metadata": {},
   "outputs": [],
   "source": []
  },
  {
   "cell_type": "code",
   "execution_count": null,
   "id": "8436a17c",
   "metadata": {},
   "outputs": [],
   "source": []
  },
  {
   "cell_type": "code",
   "execution_count": null,
   "id": "b7732367",
   "metadata": {},
   "outputs": [],
   "source": []
  },
  {
   "cell_type": "markdown",
   "id": "a708e546",
   "metadata": {},
   "source": [
    "<div align=\"center\"> &copy; 2024 by Quantinuum. All Rights Reserved. </div>"
   ]
  }
 ],
 "metadata": {
  "kernelspec": {
   "display_name": "Python 3 (ipykernel)",
   "language": "python",
   "name": "python3"
  },
  "language_info": {
   "codemirror_mode": {
    "name": "ipython",
    "version": 3
   },
   "file_extension": ".py",
   "mimetype": "text/x-python",
   "name": "python",
   "nbconvert_exporter": "python",
   "pygments_lexer": "ipython3",
   "version": "3.9.0"
  }
 },
 "nbformat": 4,
 "nbformat_minor": 5
}
